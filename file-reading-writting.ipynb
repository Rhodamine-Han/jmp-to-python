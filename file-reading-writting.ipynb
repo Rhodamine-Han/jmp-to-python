{
 "cells": [
  {
   "cell_type": "code",
   "execution_count": 10,
   "id": "60515c52",
   "metadata": {},
   "outputs": [],
   "source": [
    "#writting a file\n",
    "\n",
    "f = open(\"C:\\\\Users\\\\hansm\\\\Desktop\\\\jmp-to-python\\\\new-file.txt\", 'w') #use \\\\ instead of \\!!\n",
    "\n",
    "for i in range(1,11):\n",
    "    data = 'This is %dth line\\n' %i\n",
    "    f.write(data)\n",
    "\n",
    "f.close()\n"
   ]
  },
  {
   "cell_type": "code",
   "execution_count": 13,
   "id": "7dbadde3",
   "metadata": {},
   "outputs": [
    {
     "name": "stdout",
     "output_type": "stream",
     "text": [
      "This is 1th line\n",
      "\n",
      "This is 2th line\n",
      "\n",
      "This is 3th line\n",
      "\n",
      "This is 4th line\n",
      "\n",
      "This is 5th line\n",
      "\n",
      "This is 6th line\n",
      "\n",
      "This is 7th line\n",
      "\n",
      "This is 8th line\n",
      "\n",
      "This is 9th line\n",
      "\n",
      "This is 10th line\n",
      "\n"
     ]
    }
   ],
   "source": [
    "#reading a file\n",
    "\n",
    "f = open(\"C:\\\\Users\\\\hansm\\\\Desktop\\\\jmp-to-python\\\\new-file.txt\", 'r')\n",
    "\n",
    "while True :\n",
    "    line = f.readline()\n",
    "    if not line: break\n",
    "    print(line)\n",
    "f.close()\n"
   ]
  },
  {
   "cell_type": "code",
   "execution_count": 16,
   "id": "6ca9ff5b",
   "metadata": {},
   "outputs": [],
   "source": [
    "#editting\n",
    "\n",
    "f = open(\"C:\\\\Users\\\\hansm\\\\Desktop\\\\jmp-to-python\\\\new-file.txt\", 'a')\n",
    "\n",
    "for i in range(1,11):\n",
    "    data = \"sencond try, This is %dth line\\n\" %i\n",
    "    f.write(data)\n",
    "\n",
    "f.close()"
   ]
  },
  {
   "cell_type": "code",
   "execution_count": 23,
   "id": "e938ba34",
   "metadata": {},
   "outputs": [
    {
     "name": "stdout",
     "output_type": "stream",
     "text": [
      "This is 1th line\n",
      "This is 2th line\n",
      "This is 3th line\n",
      "Thi\n"
     ]
    }
   ],
   "source": [
    "f = open(\"C:\\\\Users\\\\hansm\\\\Desktop\\\\jmp-to-python\\\\new-file.txt\", 'r')\n",
    "\n",
    "data = f.read()\n",
    "print(data[:54])\n",
    "f.close()"
   ]
  },
  {
   "cell_type": "code",
   "execution_count": 27,
   "id": "535131b0",
   "metadata": {},
   "outputs": [
    {
     "name": "stdout",
     "output_type": "stream",
     "text": [
      "I\n",
      "My\n",
      "Me\n",
      "Mine\n",
      "\n"
     ]
    }
   ],
   "source": [
    "#editting for what you want\n",
    "\n",
    "f = open(\"C:\\\\Users\\\\hansm\\\\Desktop\\\\jmp-to-python\\\\new-file.txt\", 'a')\n",
    "\n",
    "while True :\n",
    "    whatyouwant = input()\n",
    "    f.write(whatyouwant+'\\n')\n",
    "    if not whatyouwant : break\n",
    "f.close()\n"
   ]
  }
 ],
 "metadata": {
  "kernelspec": {
   "display_name": "Python 3 (ipykernel)",
   "language": "python",
   "name": "python3"
  },
  "language_info": {
   "codemirror_mode": {
    "name": "ipython",
    "version": 3
   },
   "file_extension": ".py",
   "mimetype": "text/x-python",
   "name": "python",
   "nbconvert_exporter": "python",
   "pygments_lexer": "ipython3",
   "version": "3.9.7"
  }
 },
 "nbformat": 4,
 "nbformat_minor": 5
}

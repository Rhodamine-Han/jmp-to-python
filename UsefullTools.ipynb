{
 "cells": [
  {
   "cell_type": "code",
   "execution_count": null,
   "id": "4d7a80bd",
   "metadata": {},
   "outputs": [],
   "source": [
    "#Class For Claculator\n",
    "\n",
    "class Calculator:\n",
    "    def __init__(self):\n",
    "        self.value = 0\n",
    "\n",
    "    def add(self, val):\n",
    "        self.value += val\n",
    "        return self.value\n",
    "        \n",
    "class UpgradeCalculator(Calculator) :\n",
    "    def minus(self, val):\n",
    "        self.value -= val\n",
    "        return self.value\n",
    "    \n",
    "class MaxLimitCal(UpgradeCalculator):\n",
    "    def add(self, val):\n",
    "        self.value += val\n",
    "        if self.value > 100:\n",
    "            self.value = 'max'\n",
    "        return self.value"
   ]
  }
 ],
 "metadata": {
  "kernelspec": {
   "display_name": "Python 3 (ipykernel)",
   "language": "python",
   "name": "python3"
  },
  "language_info": {
   "codemirror_mode": {
    "name": "ipython",
    "version": 3
   },
   "file_extension": ".py",
   "mimetype": "text/x-python",
   "name": "python",
   "nbconvert_exporter": "python",
   "pygments_lexer": "ipython3",
   "version": "3.9.7"
  }
 },
 "nbformat": 4,
 "nbformat_minor": 5
}

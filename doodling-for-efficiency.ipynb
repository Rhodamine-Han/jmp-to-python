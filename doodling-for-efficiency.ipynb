{
 "cells": [
  {
   "cell_type": "code",
   "execution_count": 38,
   "id": "74e95206",
   "metadata": {},
   "outputs": [
    {
     "name": "stdout",
     "output_type": "stream",
     "text": [
      "put the numbers : 123\n",
      "['1', '2', '3']\n"
     ]
    }
   ],
   "source": [
    "#how to get rid of perticular char\n",
    "\n",
    "list1 = list(input('put the numbers : '))\n",
    "\n",
    "#how to get rid of perticular char\n",
    "\n",
    "\n",
    "\n",
    "list1 = [i for i in list1 if i not in remove_set]\n",
    "\n",
    "print(list1)\n",
    "\n"
   ]
  },
  {
   "cell_type": "code",
   "execution_count": 42,
   "id": "5fa79e93",
   "metadata": {},
   "outputs": [
    {
     "name": "stdout",
     "output_type": "stream",
     "text": [
      "put the numbers one by one : 123\n",
      "put the numbers one by one : 4\n",
      "put the numbers one by one : \n"
     ]
    },
    {
     "data": {
      "text/plain": [
       "127"
      ]
     },
     "execution_count": 42,
     "metadata": {},
     "output_type": "execute_result"
    }
   ],
   "source": [
    "#calculator\n",
    "\n",
    "def add():\n",
    "    sum_result = 0\n",
    "    while True:\n",
    "        sum_factor = input('put the numbers one by one : ')\n",
    "        if not sum_factor : break\n",
    "        sum_factor = int(sum_factor)\n",
    "        sum_result += sum_factor\n",
    "\n",
    "    return sum_result\n",
    "\n",
    "add()"
   ]
  },
  {
   "cell_type": "code",
   "execution_count": null,
   "id": "e71f0d3f",
   "metadata": {},
   "outputs": [],
   "source": [
    "#How to use 'map', get numbers as a list\n",
    "\n",
    "def average(are):\n",
    "    sum = 0\n",
    "    for i in are :\n",
    "        sum += i\n",
    "    return sum/len(are)\n",
    "\n",
    "list1 = list(map(int, input('input numbers : ').split()))\n",
    "\n",
    "print(list1)\n",
    "\n",
    "print(average(list1))\n"
   ]
  }
 ],
 "metadata": {
  "kernelspec": {
   "display_name": "Python 3 (ipykernel)",
   "language": "python",
   "name": "python3"
  },
  "language_info": {
   "codemirror_mode": {
    "name": "ipython",
    "version": 3
   },
   "file_extension": ".py",
   "mimetype": "text/x-python",
   "name": "python",
   "nbconvert_exporter": "python",
   "pygments_lexer": "ipython3",
   "version": "3.9.7"
  }
 },
 "nbformat": 4,
 "nbformat_minor": 5
}

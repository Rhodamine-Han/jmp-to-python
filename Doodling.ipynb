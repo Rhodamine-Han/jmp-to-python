{
 "cells": [
  {
   "cell_type": "code",
   "execution_count": 9,
   "id": "5fa79e93",
   "metadata": {
    "scrolled": true
   },
   "outputs": [
    {
     "name": "stdout",
     "output_type": "stream",
     "text": [
      "put the numbers one by one : 1\n",
      "put the numbers one by one : 2\n",
      "put the numbers one by one : \n"
     ]
    },
    {
     "data": {
      "text/plain": [
       "3"
      ]
     },
     "execution_count": 9,
     "metadata": {},
     "output_type": "execute_result"
    }
   ],
   "source": [
    "#calculator\n",
    "\n",
    "def add():\n",
    "    sum_result = 0\n",
    "    while True:\n",
    "        sum_factor = input('put the numbers one by one : ')\n",
    "        if not sum_factor : breakf\n",
    "        sum_factor = int(sum_factor)\n",
    "        sum_result += sum_factor\n",
    "\n",
    "    return sum_result\n",
    "\n",
    "add()"
   ]
  },
  {
   "cell_type": "code",
   "execution_count": 10,
   "id": "aa0a5beb",
   "metadata": {},
   "outputs": [
    {
     "name": "stdout",
     "output_type": "stream",
     "text": [
      "input numbers : \n",
      "[]\n"
     ]
    },
    {
     "ename": "ZeroDivisionError",
     "evalue": "division by zero",
     "output_type": "error",
     "traceback": [
      "\u001b[1;31m---------------------------------------------------------------------------\u001b[0m",
      "\u001b[1;31mZeroDivisionError\u001b[0m                         Traceback (most recent call last)",
      "\u001b[1;32m~\\AppData\\Local\\Temp/ipykernel_4692/977522248.py\u001b[0m in \u001b[0;36m<module>\u001b[1;34m\u001b[0m\n\u001b[0;32m     11\u001b[0m \u001b[0mprint\u001b[0m\u001b[1;33m(\u001b[0m\u001b[0mlist1\u001b[0m\u001b[1;33m)\u001b[0m\u001b[1;33m\u001b[0m\u001b[1;33m\u001b[0m\u001b[0m\n\u001b[0;32m     12\u001b[0m \u001b[1;33m\u001b[0m\u001b[0m\n\u001b[1;32m---> 13\u001b[1;33m \u001b[0mprint\u001b[0m\u001b[1;33m(\u001b[0m\u001b[0maverage\u001b[0m\u001b[1;33m(\u001b[0m\u001b[0mlist1\u001b[0m\u001b[1;33m)\u001b[0m\u001b[1;33m)\u001b[0m\u001b[1;33m\u001b[0m\u001b[1;33m\u001b[0m\u001b[0m\n\u001b[0m",
      "\u001b[1;32m~\\AppData\\Local\\Temp/ipykernel_4692/977522248.py\u001b[0m in \u001b[0;36maverage\u001b[1;34m(are)\u001b[0m\n\u001b[0;32m      5\u001b[0m     \u001b[1;32mfor\u001b[0m \u001b[0mi\u001b[0m \u001b[1;32min\u001b[0m \u001b[0mare\u001b[0m \u001b[1;33m:\u001b[0m\u001b[1;33m\u001b[0m\u001b[1;33m\u001b[0m\u001b[0m\n\u001b[0;32m      6\u001b[0m         \u001b[0msum\u001b[0m \u001b[1;33m+=\u001b[0m \u001b[0mi\u001b[0m\u001b[1;33m\u001b[0m\u001b[1;33m\u001b[0m\u001b[0m\n\u001b[1;32m----> 7\u001b[1;33m     \u001b[1;32mreturn\u001b[0m \u001b[0msum\u001b[0m\u001b[1;33m/\u001b[0m\u001b[0mlen\u001b[0m\u001b[1;33m(\u001b[0m\u001b[0mare\u001b[0m\u001b[1;33m)\u001b[0m\u001b[1;33m\u001b[0m\u001b[1;33m\u001b[0m\u001b[0m\n\u001b[0m\u001b[0;32m      8\u001b[0m \u001b[1;33m\u001b[0m\u001b[0m\n\u001b[0;32m      9\u001b[0m \u001b[0mlist1\u001b[0m \u001b[1;33m=\u001b[0m \u001b[0mlist\u001b[0m\u001b[1;33m(\u001b[0m\u001b[0mmap\u001b[0m\u001b[1;33m(\u001b[0m\u001b[0mint\u001b[0m\u001b[1;33m,\u001b[0m \u001b[0minput\u001b[0m\u001b[1;33m(\u001b[0m\u001b[1;34m'input numbers : '\u001b[0m\u001b[1;33m)\u001b[0m\u001b[1;33m.\u001b[0m\u001b[0msplit\u001b[0m\u001b[1;33m(\u001b[0m\u001b[1;33m)\u001b[0m\u001b[1;33m)\u001b[0m\u001b[1;33m)\u001b[0m\u001b[1;33m\u001b[0m\u001b[1;33m\u001b[0m\u001b[0m\n",
      "\u001b[1;31mZeroDivisionError\u001b[0m: division by zero"
     ]
    }
   ],
   "source": [
    "#How to use 'map', get numbers as a list\n",
    "\n",
    "def average(are):\n",
    "    sum = 0\n",
    "    for i in are :\n",
    "        sum += i\n",
    "    return sum/len(are)\n",
    "\n",
    "list1 = list(map(int, input('input numbers : ').split()))\n",
    "\n",
    "print(list1)\n",
    "\n",
    "print(average(list1))\n"
   ]
  },
  {
   "cell_type": "code",
   "execution_count": 16,
   "id": "93650ef4",
   "metadata": {},
   "outputs": [
    {
     "name": "stdout",
     "output_type": "stream",
     "text": [
      "put the numbers : 1,2,3,4 24\n",
      "['1', ',', '2', ',', '3', ',', '4', ' ', '2', '4']\n",
      "['1', '2', '3', '4', '2', '4']\n"
     ]
    }
   ],
   "source": [
    "#how to get rid of perticular char\n",
    "\n",
    "list1 = list(input('put the numbers : '))\n",
    "\n",
    "print(list1) #how to get rid of perticular char\n",
    "\n",
    "remove_set = [' ', ',']\n",
    "\n",
    "list1 = [i for i in list1 if i not in remove_set]\n",
    "\n",
    "print(list1)"
   ]
  },
  {
   "cell_type": "code",
   "execution_count": 1,
   "id": "ad93b8a6",
   "metadata": {},
   "outputs": [
    {
     "name": "stdout",
     "output_type": "stream",
     "text": [
      "put the numbers : 12n 321\n"
     ]
    },
    {
     "ename": "ValueError",
     "evalue": "invalid literal for int() with base 10: '12n'",
     "output_type": "error",
     "traceback": [
      "\u001b[1;31m---------------------------------------------------------------------------\u001b[0m",
      "\u001b[1;31mValueError\u001b[0m                                Traceback (most recent call last)",
      "\u001b[1;32m~\\AppData\\Local\\Temp/ipykernel_3552/3213410583.py\u001b[0m in \u001b[0;36m<module>\u001b[1;34m\u001b[0m\n\u001b[0;32m      5\u001b[0m \u001b[0mlist1\u001b[0m \u001b[1;33m=\u001b[0m \u001b[0mlist1\u001b[0m\u001b[1;33m.\u001b[0m\u001b[0msplit\u001b[0m\u001b[1;33m(\u001b[0m\u001b[1;33m)\u001b[0m\u001b[1;33m\u001b[0m\u001b[1;33m\u001b[0m\u001b[0m\n\u001b[0;32m      6\u001b[0m \u001b[1;33m\u001b[0m\u001b[0m\n\u001b[1;32m----> 7\u001b[1;33m \u001b[0mlist1\u001b[0m \u001b[1;33m=\u001b[0m \u001b[0mlist\u001b[0m\u001b[1;33m(\u001b[0m\u001b[0mmap\u001b[0m\u001b[1;33m(\u001b[0m\u001b[0mint\u001b[0m\u001b[1;33m,\u001b[0m \u001b[0mlist1\u001b[0m\u001b[1;33m)\u001b[0m\u001b[1;33m)\u001b[0m\u001b[1;33m\u001b[0m\u001b[1;33m\u001b[0m\u001b[0m\n\u001b[0m\u001b[0;32m      8\u001b[0m \u001b[1;33m\u001b[0m\u001b[0m\n\u001b[0;32m      9\u001b[0m \u001b[0mprint\u001b[0m\u001b[1;33m(\u001b[0m\u001b[0mlist1\u001b[0m\u001b[1;33m)\u001b[0m\u001b[1;33m\u001b[0m\u001b[1;33m\u001b[0m\u001b[0m\n",
      "\u001b[1;31mValueError\u001b[0m: invalid literal for int() with base 10: '12n'"
     ]
    }
   ],
   "source": [
    "list1 = input('put the numbers : ')\n",
    "\n",
    "list1 = list1.split(',')\n",
    "list1 = \" \".join(list1)\n",
    "list1 = list1.split()\n",
    "\n",
    "list1 = list(map(int, list1))\n",
    "\n",
    "print(list1)"
   ]
  },
  {
   "cell_type": "code",
   "execution_count": 3,
   "id": "4f18afd3",
   "metadata": {},
   "outputs": [
    {
     "name": "stdout",
     "output_type": "stream",
     "text": [
      "input numbers : 1 23 134 1\n",
      "[1, 23, 134, 1]\n",
      "39.75\n"
     ]
    }
   ],
   "source": [
    "import re\n",
    "\n",
    "p = re.compile(\"\\d+\")\n",
    "\n",
    "\n",
    "def average(are):\n",
    "    sum = 0\n",
    "    for i in are :\n",
    "        sum += i\n",
    "    return sum/len(are)\n",
    "\n",
    "\n",
    "# list1 = list(map(int,input('input numbers : ').split())) -> split with ' '\n",
    "\n",
    "# preprocessing for ','&' ' not using RE\n",
    "# list1 = input('input numbers : ')\n",
    "# list1 = list1.split(',')\n",
    "# list1 = \" \".join(list1)\n",
    "# list1 = list1.split()\n",
    "\n",
    "# list1 = list(map(int,list1))\n",
    "\n",
    "# preprocessing for ','&' 'using RE\n",
    "\n",
    "list1 = input('input numbers : ')\n",
    "\n",
    "#making a list after finding all numbers\n",
    "list1 = p.findall(list1)\n",
    "\n",
    "#mapping to transform char to int\n",
    "\n",
    "list1 = list(map(int, list1))\n",
    "\n",
    "\n",
    "print(list1)\n",
    "\n",
    "print(average(list1))\n"
   ]
  },
  {
   "cell_type": "code",
   "execution_count": 4,
   "id": "7ea2f473",
   "metadata": {},
   "outputs": [],
   "source": [
    "#exp. does RE can work to numbers(int)??\n",
    "#dosen't work.\n",
    "import re\n",
    "\n",
    "p = re.compile(\"\\d+\")\n",
    "\n",
    "\n",
    "def average(are):\n",
    "    sum = 0\n",
    "    for i in are :\n",
    "        sum += i\n",
    "    return sum/len(are)\n",
    "\n",
    "\n",
    "# list1 = list(map(int,input('input numbers : ').split())) -> split with ' '\n",
    "\n",
    "# preprocessing for ','&' ' not using RE\n",
    "# list1 = input('input numbers : ')\n",
    "# list1 = list1.split(',')\n",
    "# list1 = \" \".join(list1)\n",
    "# list1 = list1.split()\n",
    "\n",
    "# list1 = list(map(int,list1))\n",
    "\n"
   ]
  },
  {
   "cell_type": "code",
   "execution_count": 5,
   "id": "29c22d55",
   "metadata": {},
   "outputs": [
    {
     "data": {
      "text/plain": [
       "[1, 2, 6]"
      ]
     },
     "execution_count": 5,
     "metadata": {},
     "output_type": "execute_result"
    }
   ],
   "source": [
    "#filter with lambda\n",
    "\n",
    "list(filter(lambda x: x > 0, [1, -3, 2, 0, -5, 6]))\n",
    "\n"
   ]
  }
 ],
 "metadata": {
  "kernelspec": {
   "display_name": "Python 3 (ipykernel)",
   "language": "python",
   "name": "python3"
  },
  "language_info": {
   "codemirror_mode": {
    "name": "ipython",
    "version": 3
   },
   "file_extension": ".py",
   "mimetype": "text/x-python",
   "name": "python",
   "nbconvert_exporter": "python",
   "pygments_lexer": "ipython3",
   "version": "3.9.7"
  }
 },
 "nbformat": 4,
 "nbformat_minor": 5
}

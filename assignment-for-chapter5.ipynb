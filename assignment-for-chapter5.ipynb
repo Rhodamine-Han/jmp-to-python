{
 "cells": [
  {
   "cell_type": "code",
   "execution_count": 3,
   "id": "46f827b9",
   "metadata": {},
   "outputs": [
    {
     "name": "stdout",
     "output_type": "stream",
     "text": [
      "7\n",
      "18\n"
     ]
    }
   ],
   "source": [
    "#Q1.\n",
    "\n",
    "class Calculator:\n",
    "    def __init__(self):\n",
    "        self.value = 0\n",
    "\n",
    "    def add(self, val):\n",
    "        self.value += val\n",
    "        return self.value\n",
    "        \n",
    "class UpgradeCalculator(Calculator) :\n",
    "    def minus(self, val):\n",
    "        self.value -= val\n",
    "        return self.value\n",
    "\n",
    "a = UpgradeCalculator()\n",
    "b = UpgradeCalculator()\n",
    "\n",
    "\n",
    "a.add(10)\n",
    "a.minus(3)\n",
    "\n",
    "b.add(20)\n",
    "b.minus(2)\n",
    "\n",
    "print(a.value)\n",
    "print(b.value)"
   ]
  },
  {
   "cell_type": "code",
   "execution_count": 8,
   "id": "4fc1ffbb",
   "metadata": {},
   "outputs": [
    {
     "name": "stdout",
     "output_type": "stream",
     "text": [
      "7\n",
      "18\n",
      "max\n"
     ]
    }
   ],
   "source": [
    "#Q2.\n",
    "\n",
    "class Calculator:\n",
    "    def __init__(self):\n",
    "        self.value = 0\n",
    "\n",
    "    def add(self, val):\n",
    "        self.value += val\n",
    "        return self.value\n",
    "        \n",
    "class UpgradeCalculator(Calculator) :\n",
    "    def minus(self, val):\n",
    "        self.value -= val\n",
    "        return self.value\n",
    "    \n",
    "class MaxLimitCal(UpgradeCalculator):\n",
    "    def add(self, val):\n",
    "        self.value += val\n",
    "        if self.value > 100:\n",
    "            self.value = 'max'\n",
    "        return self.value\n",
    "\n",
    "a = UpgradeCalculator()\n",
    "b = UpgradeCalculator()\n",
    "c = MaxLimitCal()\n",
    "\n",
    "\n",
    "a.add(10)\n",
    "a.minus(3)\n",
    "\n",
    "b.add(20)\n",
    "b.minus(2)\n",
    "\n",
    "c.add(80)\n",
    "c.add(30)\n",
    "\n",
    "print(a.value)\n",
    "print(b.value)\n",
    "print(c.value)"
   ]
  }
 ],
 "metadata": {
  "kernelspec": {
   "display_name": "Python 3 (ipykernel)",
   "language": "python",
   "name": "python3"
  },
  "language_info": {
   "codemirror_mode": {
    "name": "ipython",
    "version": 3
   },
   "file_extension": ".py",
   "mimetype": "text/x-python",
   "name": "python",
   "nbconvert_exporter": "python",
   "pygments_lexer": "ipython3",
   "version": "3.9.7"
  }
 },
 "nbformat": 4,
 "nbformat_minor": 5
}

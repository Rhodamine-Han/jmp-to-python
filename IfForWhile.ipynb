{
 "cells": [
  {
   "cell_type": "code",
   "execution_count": 8,
   "id": "eb7f86c9",
   "metadata": {},
   "outputs": [
    {
     "name": "stdout",
     "output_type": "stream",
     "text": [
      "1\n",
      "it is 1\n"
     ]
    }
   ],
   "source": [
    "#how to use if\n",
    "\n",
    "deciedingfactor = int(input())\n",
    "\n",
    "if deciedingfactor == 0 :\n",
    "    print('it is 0')\n",
    "elif deciedingfactor == 1 :\n",
    "    print('it is 1')\n",
    "else : \n",
    "    print(\"I don't know what to say\")\n",
    "\n"
   ]
  },
  {
   "cell_type": "code",
   "execution_count": 13,
   "id": "c0fa25d7",
   "metadata": {},
   "outputs": [
    {
     "name": "stdout",
     "output_type": "stream",
     "text": [
      "1\n",
      "2\n",
      "3\n",
      "4\n"
     ]
    }
   ],
   "source": [
    "#for\n",
    "\n",
    "list1 = [1, 2, 3, 4]\n",
    "\n",
    "for i in list1 :\n",
    "    print(i)"
   ]
  },
  {
   "cell_type": "code",
   "execution_count": 14,
   "id": "ebb66ad6",
   "metadata": {},
   "outputs": [
    {
     "name": "stdout",
     "output_type": "stream",
     "text": [
      "0\n",
      "1\n",
      "2\n"
     ]
    }
   ],
   "source": [
    "#while\n",
    "\n",
    "a = 0\n",
    "\n",
    "while a<3 : \n",
    "    print(a)\n",
    "    a+=1"
   ]
  }
 ],
 "metadata": {
  "kernelspec": {
   "display_name": "Python 3 (ipykernel)",
   "language": "python",
   "name": "python3"
  },
  "language_info": {
   "codemirror_mode": {
    "name": "ipython",
    "version": 3
   },
   "file_extension": ".py",
   "mimetype": "text/x-python",
   "name": "python",
   "nbconvert_exporter": "python",
   "pygments_lexer": "ipython3",
   "version": "3.9.7"
  }
 },
 "nbformat": 4,
 "nbformat_minor": 5
}

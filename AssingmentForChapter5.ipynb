{
 "cells": [
  {
   "cell_type": "code",
   "execution_count": 3,
   "id": "46f827b9",
   "metadata": {},
   "outputs": [
    {
     "name": "stdout",
     "output_type": "stream",
     "text": [
      "7\n",
      "18\n"
     ]
    }
   ],
   "source": [
    "#Q1.\n",
    "\n",
    "class Calculator:\n",
    "    def __init__(self):\n",
    "        self.value = 0\n",
    "\n",
    "    def add(self, val):\n",
    "        self.value += val\n",
    "        return self.value\n",
    "        \n",
    "class UpgradeCalculator(Calculator) :\n",
    "    def minus(self, val):\n",
    "        self.value -= val\n",
    "        return self.value\n",
    "\n",
    "a = UpgradeCalculator()\n",
    "b = UpgradeCalculator()\n",
    "\n",
    "\n",
    "a.add(10)\n",
    "a.minus(3)\n",
    "\n",
    "b.add(20)\n",
    "b.minus(2)\n",
    "\n",
    "print(a.value)\n",
    "print(b.value)"
   ]
  },
  {
   "cell_type": "code",
   "execution_count": 1,
   "id": "4fc1ffbb",
   "metadata": {},
   "outputs": [
    {
     "name": "stdout",
     "output_type": "stream",
     "text": [
      "7\n",
      "18\n",
      "max\n"
     ]
    }
   ],
   "source": [
    "#Q2.\n",
    "\n",
    "class Calculator:\n",
    "    def __init__(self):\n",
    "        self.value = 0\n",
    "\n",
    "    def add(self, val):\n",
    "        self.value += val\n",
    "        return self.value\n",
    "        \n",
    "class UpgradeCalculator(Calculator) :\n",
    "    def minus(self, val):\n",
    "        self.value -= val\n",
    "        return self.value\n",
    "    \n",
    "class MaxLimitCal(UpgradeCalculator):\n",
    "    def add(self, val):\n",
    "        self.value += val\n",
    "        if self.value > 100:\n",
    "            self.value = 'max'\n",
    "        return self.value\n",
    "\n",
    "a = UpgradeCalculator()\n",
    "b = UpgradeCalculator()\n",
    "c = MaxLimitCal()\n",
    "\n",
    "\n",
    "a.add(10)\n",
    "a.minus(3)\n",
    "\n",
    "b.add(20)\n",
    "b.minus(2)\n",
    "\n",
    "c.add(80)\n",
    "c.add(30)\n",
    "\n",
    "print(a.value)\n",
    "print(b.value)\n",
    "print(c.value)"
   ]
  },
  {
   "cell_type": "code",
   "execution_count": 5,
   "id": "e046e7fe",
   "metadata": {},
   "outputs": [],
   "source": [
    "#Q3,\n",
    "\n",
    "# all([1, 2, abs(-3)-3])\n",
    "\n",
    "\n",
    "\n",
    "# chr(ord('a')) == 'a'\n",
    "\n"
   ]
  },
  {
   "cell_type": "code",
   "execution_count": 7,
   "id": "f387ab0d",
   "metadata": {},
   "outputs": [
    {
     "data": {
      "text/plain": [
       "[1, 3, 8]"
      ]
     },
     "execution_count": 7,
     "metadata": {},
     "output_type": "execute_result"
    }
   ],
   "source": [
    "#Q4\n",
    "\n",
    "list(filter(lambda x: x>0, [1, -2, 3, -5, 8, -3]))"
   ]
  },
  {
   "cell_type": "code",
   "execution_count": 11,
   "id": "7c789fc3",
   "metadata": {},
   "outputs": [
    {
     "data": {
      "text/plain": [
       "234"
      ]
     },
     "execution_count": 11,
     "metadata": {},
     "output_type": "execute_result"
    }
   ],
   "source": [
    "#Q5\n",
    "int('0xea', 16)"
   ]
  },
  {
   "cell_type": "code",
   "execution_count": 16,
   "id": "bf547c57",
   "metadata": {},
   "outputs": [
    {
     "data": {
      "text/plain": [
       "[3, 6, 9, 12]"
      ]
     },
     "execution_count": 16,
     "metadata": {},
     "output_type": "execute_result"
    }
   ],
   "source": [
    "#Q6\n",
    "\n",
    "list(map(lambda x : x*3 ,[1, 2, 3, 4]))"
   ]
  },
  {
   "cell_type": "code",
   "execution_count": 18,
   "id": "16aa4dc2",
   "metadata": {},
   "outputs": [
    {
     "name": "stdout",
     "output_type": "stream",
     "text": [
      "-1\n"
     ]
    }
   ],
   "source": [
    "#Q7\n",
    "\n",
    "list = [-8, 2, 7, 5, -3, 5, 0, 1]\n",
    "print(max(list) + min(list))"
   ]
  },
  {
   "cell_type": "code",
   "execution_count": 22,
   "id": "2ddd08ce",
   "metadata": {},
   "outputs": [
    {
     "data": {
      "text/plain": [
       "5.6667"
      ]
     },
     "execution_count": 22,
     "metadata": {},
     "output_type": "execute_result"
    }
   ],
   "source": [
    "#Q8\n",
    "\n",
    "round(5.666666666666667, 4)"
   ]
  },
  {
   "cell_type": "code",
   "execution_count": null,
   "id": "4bf6c8d9",
   "metadata": {},
   "outputs": [],
   "source": [
    "#Q9\n"
   ]
  }
 ],
 "metadata": {
  "kernelspec": {
   "display_name": "Python 3 (ipykernel)",
   "language": "python",
   "name": "python3"
  },
  "language_info": {
   "codemirror_mode": {
    "name": "ipython",
    "version": 3
   },
   "file_extension": ".py",
   "mimetype": "text/x-python",
   "name": "python",
   "nbconvert_exporter": "python",
   "pygments_lexer": "ipython3",
   "version": "3.9.7"
  }
 },
 "nbformat": 4,
 "nbformat_minor": 5
}

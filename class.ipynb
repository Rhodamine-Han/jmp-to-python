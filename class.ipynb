{
 "cells": [
  {
   "cell_type": "code",
   "execution_count": 7,
   "id": "63ff7551",
   "metadata": {},
   "outputs": [
    {
     "name": "stdout",
     "output_type": "stream",
     "text": [
      "3\n",
      "12\n",
      "15625\n"
     ]
    }
   ],
   "source": [
    "#Test for class\n",
    "\n",
    "class FourCal :\n",
    "    def __init__(self, a, b):\n",
    "        self.a = a\n",
    "        self.b = b\n",
    "    def add(self):\n",
    "        result = self.a + self.b\n",
    "        return result\n",
    "    def mul(self):\n",
    "        result = self.a * self.b\n",
    "        return result\n",
    "    \n",
    "#Inheritance\n",
    "class Fourcal_additional(FourCal) :\n",
    "    def power(self):\n",
    "        result = self.a ** self.b\n",
    "        return result\n",
    "    \n",
    "    \n",
    "f = FourCal(1, 2)\n",
    "b = FourCal(3, 4)\n",
    "c = Fourcal_additional(5, 6)\n",
    "\n",
    "print(f.add())\n",
    "print(b.mul())\n",
    "print(c.power())\n"
   ]
  },
  {
   "cell_type": "code",
   "execution_count": null,
   "id": "a81e3b18",
   "metadata": {},
   "outputs": [],
   "source": []
  }
 ],
 "metadata": {
  "kernelspec": {
   "display_name": "Python 3 (ipykernel)",
   "language": "python",
   "name": "python3"
  },
  "language_info": {
   "codemirror_mode": {
    "name": "ipython",
    "version": 3
   },
   "file_extension": ".py",
   "mimetype": "text/x-python",
   "name": "python",
   "nbconvert_exporter": "python",
   "pygments_lexer": "ipython3",
   "version": "3.9.7"
  }
 },
 "nbformat": 4,
 "nbformat_minor": 5
}

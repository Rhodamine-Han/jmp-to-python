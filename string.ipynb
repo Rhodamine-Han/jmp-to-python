{
 "cells": [
  {
   "cell_type": "code",
   "execution_count": 19,
   "id": "87c9f250",
   "metadata": {},
   "outputs": [
    {
     "name": "stdout",
     "output_type": "stream",
     "text": [
      "I'm writing a line\n",
      "\n",
      "\n",
      "I'm a hard-ware engneer working for LG\n",
      "and I am very interested in pyton\n",
      "I think it could be my next job\n",
      "\n",
      "\n",
      "I'm a hard-ware engneer working for LG\n",
      "and I am very interested in pyton\n",
      "I think it could be my next job\n",
      "This is another line!\n",
      "104\n",
      "ma\n",
      "I'm a hard\n",
      "\n",
      "\n",
      "\n",
      "For formatting 100\n",
      "\n",
      "\n",
      "\n",
      "For formatting 1 , 2\n"
     ]
    },
    {
     "data": {
      "text/plain": [
       "5"
      ]
     },
     "execution_count": 19,
     "metadata": {},
     "output_type": "execute_result"
    }
   ],
   "source": [
    "#print a line\n",
    "\n",
    "print(\"I'm writing a line\\n\\n\")\n",
    "\n",
    "#print more than a line\n",
    "\n",
    "lines = \"\"\"I'm a hard-ware engneer working for LG\n",
    "and I am very interested in pyton\\nI think it could be my next job\"\"\"\n",
    "\n",
    "print(lines+'\\n\\n')\n",
    "\n",
    "#add lines and another line\n",
    "\n",
    "another = \"\\nThis is another line!\"\n",
    "\n",
    "print(lines+another)\n",
    "\n",
    "#length of lines\n",
    "\n",
    "print(len(lines))\n",
    "\n",
    "#index\n",
    "\n",
    "print(lines[2]+lines[4])\n",
    "\n",
    "#slicing\n",
    "\n",
    "print(lines[0:10])\n",
    "\n",
    "#formatting\n",
    "\n",
    "a = 100\n",
    "\n",
    "print('\\n\\n')\n",
    "print('For formatting %d'%a)\n",
    "\n",
    "print('\\n\\n')\n",
    "print('For formatting {0} , {1}'.format(1, 2))\n",
    "\n",
    "f'for formatting, {a}'\n",
    "\n",
    "#counting\n",
    "\n",
    "lines.count('a')"
   ]
  },
  {
   "cell_type": "code",
   "execution_count": null,
   "id": "e8abfb78",
   "metadata": {},
   "outputs": [],
   "source": []
  }
 ],
 "metadata": {
  "kernelspec": {
   "display_name": "Python 3 (ipykernel)",
   "language": "python",
   "name": "python3"
  },
  "language_info": {
   "codemirror_mode": {
    "name": "ipython",
    "version": 3
   },
   "file_extension": ".py",
   "mimetype": "text/x-python",
   "name": "python",
   "nbconvert_exporter": "python",
   "pygments_lexer": "ipython3",
   "version": "3.9.7"
  }
 },
 "nbformat": 4,
 "nbformat_minor": 5
}

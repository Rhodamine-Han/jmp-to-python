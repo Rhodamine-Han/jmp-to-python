{
 "cells": [
  {
   "cell_type": "code",
   "execution_count": 9,
   "id": "95e36ecc",
   "metadata": {},
   "outputs": [
    {
     "name": "stdout",
     "output_type": "stream",
     "text": [
      "<re.Match object; span=(0, 6), match='python'>\n",
      "<re.Match object; span=(3, 9), match='python'>\n",
      "['life', 'is', 'short', 'but', 'not', 'to', 'me']\n"
     ]
    }
   ],
   "source": [
    "import re\n",
    "p = re.compile('[a-z]+')\n",
    "\n",
    "m = p.match(\"python\")\n",
    "\n",
    "print(m)\n",
    "\n",
    "n = p.search(\";;;python\")\n",
    "print(n)\n",
    "\n",
    "result = p.findall(\"life is short, but not to me\")\n",
    "\n",
    "print(result)"
   ]
  }
 ],
 "metadata": {
  "kernelspec": {
   "display_name": "Python 3 (ipykernel)",
   "language": "python",
   "name": "python3"
  },
  "language_info": {
   "codemirror_mode": {
    "name": "ipython",
    "version": 3
   },
   "file_extension": ".py",
   "mimetype": "text/x-python",
   "name": "python",
   "nbconvert_exporter": "python",
   "pygments_lexer": "ipython3",
   "version": "3.9.7"
  }
 },
 "nbformat": 4,
 "nbformat_minor": 5
}

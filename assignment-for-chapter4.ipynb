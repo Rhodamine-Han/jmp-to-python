{
 "cells": [
  {
   "cell_type": "code",
   "execution_count": 2,
   "id": "93b347d0",
   "metadata": {},
   "outputs": [
    {
     "name": "stdout",
     "output_type": "stream",
     "text": [
      "put the number : 2\n",
      "even\n"
     ]
    }
   ],
   "source": [
    "#Q1.\n",
    "def is_odd(a):\n",
    "    if a%2 == 1:\n",
    "        print('odd')\n",
    "    else : print('even')\n",
    "\n",
    "\n",
    "number = int(input('put the number : '))\n",
    "\n",
    "is_odd(number)"
   ]
  },
  {
   "cell_type": "code",
   "execution_count": 4,
   "id": "80cc466e",
   "metadata": {},
   "outputs": [
    {
     "name": "stdout",
     "output_type": "stream",
     "text": [
      "input numbers : 1 2 3 4 2, 2345, 64 23\n",
      "[1, 2, 3, 4, 2, 2345, 64, 23]\n",
      "305.5\n"
     ]
    }
   ],
   "source": [
    "#Q2.\n",
    "\n",
    "def average(are):\n",
    "    sum = 0\n",
    "    for i in are :\n",
    "        sum += i\n",
    "    return sum/len(are)\n",
    "\n",
    "\n",
    "# list1 = list(map(int,input('input numbers : ').split())) -> split with ' '\n",
    "\n",
    "# preprocessing for ','&' '\n",
    "list1 = input('input numbers : ')\n",
    "list1 = list1.split(',')\n",
    "list1 = \" \".join(list1)\n",
    "list1 = list1.split()\n",
    "\n",
    "list1 = list(map(int,list1))\n",
    "\n",
    "print(list1)\n",
    "\n",
    "print(average(list1))\n",
    "\n"
   ]
  },
  {
   "cell_type": "code",
   "execution_count": 15,
   "id": "2608443a",
   "metadata": {},
   "outputs": [
    {
     "name": "stdout",
     "output_type": "stream",
     "text": [
      "Num1 : 123\n",
      "Num2 : 13\n",
      "sum = 136 \n"
     ]
    }
   ],
   "source": [
    "#Q3.\n",
    "\n",
    "input1 = int(input(\"Num1 : \"))\n",
    "input2 = int(input(\"Num2 : \"))\n",
    "\n",
    "total = input1 + input2\n",
    "print(\"sum = %d \" % total)"
   ]
  },
  {
   "cell_type": "code",
   "execution_count": 17,
   "id": "72db6cee",
   "metadata": {},
   "outputs": [
    {
     "name": "stdout",
     "output_type": "stream",
     "text": [
      "youneedpython\n",
      "youneedpython\n",
      "you need python\n",
      "youneedpython\n"
     ]
    }
   ],
   "source": [
    "#Q4.\n",
    "\n",
    "print(\"you\" \"need\" \"python\")\n",
    "print(\"you\"+\"need\"+\"python\")\n",
    "print(\"you\", \"need\", \"python\")\n",
    "print(\"\".join([\"you\", \"need\", \"python\"]))"
   ]
  },
  {
   "cell_type": "code",
   "execution_count": 21,
   "id": "5b67fefd",
   "metadata": {},
   "outputs": [
    {
     "name": "stdout",
     "output_type": "stream",
     "text": [
      "Life is too short\n"
     ]
    }
   ],
   "source": [
    "#Q5.\n",
    "f1 = open(\"C:\\\\Users\\\\hansm\\\\Desktop\\\\jmp-to-python\\\\test.txt\", 'w')\n",
    "f1.write(\"Life is too short\")\n",
    "f1.close()\n",
    "\n",
    "f2 = open(\"C:\\\\Users\\\\hansm\\\\Desktop\\\\jmp-to-python\\\\test.txt\", 'r')\n",
    "print(f2.read())\n",
    "f2.close()"
   ]
  },
  {
   "cell_type": "code",
   "execution_count": 24,
   "id": "89f9f811",
   "metadata": {},
   "outputs": [
    {
     "name": "stdout",
     "output_type": "stream",
     "text": [
      "sdf\n",
      "ef\n",
      "\n"
     ]
    }
   ],
   "source": [
    "#Q6.\n",
    "\n",
    "f = open(\"C:\\\\Users\\\\hansm\\\\Desktop\\\\jmp-to-python\\\\Q6.txt\", 'a')\n",
    "while True :\n",
    "    data = input()\n",
    "    f.write(data+'\\n')\n",
    "    if not data : break\n",
    "f.close()\n"
   ]
  },
  {
   "cell_type": "code",
   "execution_count": 29,
   "id": "72840473",
   "metadata": {},
   "outputs": [],
   "source": [
    "#Q7.\n",
    "\n",
    "f = open(\"C:\\\\Users\\\\hansm\\\\Desktop\\\\jmp-to-python\\\\Q7.txt\", 'r')\n",
    "\n",
    "lines = f.read()\n",
    "    \n",
    "f.close()\n",
    "\n",
    "lines = lines.replace('java','python')\n",
    "\n",
    "f = open(\"C:\\\\Users\\\\hansm\\\\Desktop\\\\jmp-to-python\\\\Q7.txt\", 'w')\n",
    "\n",
    "f.write(lines)\n",
    "f.close()"
   ]
  }
 ],
 "metadata": {
  "kernelspec": {
   "display_name": "Python 3 (ipykernel)",
   "language": "python",
   "name": "python3"
  },
  "language_info": {
   "codemirror_mode": {
    "name": "ipython",
    "version": 3
   },
   "file_extension": ".py",
   "mimetype": "text/x-python",
   "name": "python",
   "nbconvert_exporter": "python",
   "pygments_lexer": "ipython3",
   "version": "3.9.7"
  }
 },
 "nbformat": 4,
 "nbformat_minor": 5
}

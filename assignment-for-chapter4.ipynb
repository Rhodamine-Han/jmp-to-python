{
 "cells": [
  {
   "cell_type": "code",
   "execution_count": 2,
   "id": "be09107c",
   "metadata": {},
   "outputs": [
    {
     "name": "stdout",
     "output_type": "stream",
     "text": [
      "put the number : 3\n",
      "odd\n"
     ]
    }
   ],
   "source": [
    "#Q1.\n",
    "def is_odd(a):\n",
    "    if a%2 == 1:\n",
    "        print('odd')\n",
    "    else : print('even')\n",
    "\n",
    "\n",
    "number = int(input('put the number : '))\n",
    "\n",
    "is_odd(number)"
   ]
  },
  {
   "cell_type": "code",
   "execution_count": 12,
   "id": "03f7954a",
   "metadata": {},
   "outputs": [
    {
     "name": "stdout",
     "output_type": "stream",
     "text": [
      "input numbers : 123 24 1\n",
      "[123, 24, 1]\n",
      "49.333333333333336\n"
     ]
    }
   ],
   "source": [
    "#Q2.\n",
    "\n",
    "def average(are):\n",
    "    sum = 0\n",
    "    for i in are :\n",
    "        sum += i\n",
    "    return sum/len(are)\n",
    "\n",
    "list1 = list(map(int, input('input numbers : ').split()))\n",
    "\n",
    "print(list1)\n",
    "\n",
    "print(average(list1))\n",
    "\n"
   ]
  }
 ],
 "metadata": {
  "kernelspec": {
   "display_name": "Python 3 (ipykernel)",
   "language": "python",
   "name": "python3"
  },
  "language_info": {
   "codemirror_mode": {
    "name": "ipython",
    "version": 3
   },
   "file_extension": ".py",
   "mimetype": "text/x-python",
   "name": "python",
   "nbconvert_exporter": "python",
   "pygments_lexer": "ipython3",
   "version": "3.9.7"
  }
 },
 "nbformat": 4,
 "nbformat_minor": 5
}

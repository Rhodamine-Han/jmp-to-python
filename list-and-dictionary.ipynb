{
 "cells": [
  {
   "cell_type": "code",
   "execution_count": 12,
   "id": "2dac0b16",
   "metadata": {},
   "outputs": [
    {
     "name": "stdout",
     "output_type": "stream",
     "text": [
      "1\n",
      "rhodamine-Han\n",
      "{'name': 'rhodamine-Han', 'status': 'HW engineer', 'adrres': 'somewhere in korea'}\n",
      "{1, 2, 3, 4, 5, 6}\n",
      "[1, 2, 3, 4, 5, 6]\n"
     ]
    }
   ],
   "source": [
    "#printing a number in the list in the annother list\n",
    "\n",
    "list1 = [1, 2, 3, [1, 2]]\n",
    "\n",
    "print(list1[3][0])\n",
    "\n",
    "#dictionary\n",
    "\n",
    "dic = {'name':'rhodamine-Han', 'status':'HW engineer'}\n",
    "\n",
    "print(dic['name'])\n",
    "\n",
    "#putting another ingredient to the dic\n",
    "\n",
    "dic['adrres'] = 'somewhere in korea'\n",
    "\n",
    "print(dic)\n",
    "\n",
    "#using'set'lo\n",
    "\n",
    "s1 = set([1,1,1,2,3,3,4,5,5,6])\n",
    "\n",
    "print(s1)\n",
    "\n",
    "#transferring into list\n",
    "\n",
    "l1 = list(s1)\n",
    "\n",
    "print(l1)"
   ]
  },
  {
   "cell_type": "code",
   "execution_count": null,
   "id": "52bea673",
   "metadata": {},
   "outputs": [],
   "source": []
  }
 ],
 "metadata": {
  "kernelspec": {
   "display_name": "Python 3 (ipykernel)",
   "language": "python",
   "name": "python3"
  },
  "language_info": {
   "codemirror_mode": {
    "name": "ipython",
    "version": 3
   },
   "file_extension": ".py",
   "mimetype": "text/x-python",
   "name": "python",
   "nbconvert_exporter": "python",
   "pygments_lexer": "ipython3",
   "version": "3.9.7"
  }
 },
 "nbformat": 4,
 "nbformat_minor": 5
}
